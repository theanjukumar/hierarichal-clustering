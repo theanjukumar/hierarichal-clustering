{
  "nbformat": 4,
  "nbformat_minor": 0,
  "metadata": {
    "colab": {
      "provenance": []
    },
    "kernelspec": {
      "name": "python3",
      "display_name": "Python 3"
    },
    "language_info": {
      "name": "python"
    }
  },
  "cells": [
    {
      "cell_type": "code",
      "execution_count": null,
      "metadata": {
        "id": "w7Wipv_Vpk8j"
      },
      "outputs": [],
      "source": [
        "#Import the numpy, pandas , matplotlib, seaborn libery's"
      ]
    },
    {
      "cell_type": "code",
      "source": [
        "#Assign variable name \"dataset\" and the input variable as \"X\" indcludong select all the row and index columns which you want [colum_index, Column_index]."
      ],
      "metadata": {
        "id": "1NUJp8iawpE0"
      },
      "execution_count": null,
      "outputs": []
    },
    {
      "cell_type": "code",
      "source": [
        "#import scipy  cluster using attribute \"scipy.cluster.hierarchy\" as sch alias"
      ],
      "metadata": {
        "id": "D3kwxamYxQYu"
      },
      "execution_count": null,
      "outputs": []
    },
    {
      "cell_type": "code",
      "source": [
        "#Using the dendrogram to find the optimal number of clusters\n",
        "# Assign a variable as dendograph and declers the \"sch.dendrogram(sch.linkage(X, method = 'ward'))\"\n"
      ],
      "metadata": {
        "id": "o0-yQRZuxkRI"
      },
      "execution_count": null,
      "outputs": []
    },
    {
      "cell_type": "code",
      "source": [
        "#Assign the title as \"Dendograms\"\""
      ],
      "metadata": {
        "id": "6CRrMidQyoqz"
      },
      "execution_count": null,
      "outputs": []
    },
    {
      "cell_type": "code",
      "source": [
        "#Label X axis as \"Customers\""
      ],
      "metadata": {
        "id": "52dyFotgyuam"
      },
      "execution_count": null,
      "outputs": []
    },
    {
      "cell_type": "code",
      "source": [
        "#Label Y axis as 'Euclidean distances'"
      ],
      "metadata": {
        "id": "CSkhTDXFy3a3"
      },
      "execution_count": null,
      "outputs": []
    },
    {
      "cell_type": "code",
      "source": [
        "# from \"sklearn.cluster\" attribute import \"AgglomerativeClustering\" default argument."
      ],
      "metadata": {
        "id": "88MT6bqey-ke"
      },
      "execution_count": null,
      "outputs": []
    },
    {
      "cell_type": "code",
      "source": [
        "#Create a cluster for  five or nth cluster which you want.\n",
        "hc = AgglomerativeClustering(n_clusters = 5, affinity = 'euclidean', linkage = 'ward')\n",
        "y_hc = hc.fit_predict(X)"
      ],
      "metadata": {
        "id": "k_VEqd_pzVbZ"
      },
      "execution_count": null,
      "outputs": []
    },
    {
      "cell_type": "code",
      "source": [
        "#Plot the scatter plot for scatter  visualization.\n",
        "plt.scatter(X[y_hc ==], X[y_hc == ], s = 100, c = 'red', label = 'Cluster 1')\n",
        "plt.scatter(X[y_hc == ], X[y_hc == ], s = 100, c = 'blue', label = 'Cluster 2')\n",
        "plt.scatter(X[y_hc == ], X[y_hc == ], s = 100, c = 'green', label = 'Cluster 3')\n",
        "plt.scatter(X[y_hc == ], X[y_hc == ], s = 100, c = 'cyan', label = 'Cluster 4')\n",
        "plt.scatter(X[y_hc == ], X[y_hc == ], s = 100, c = 'magenta', label = 'Cluster 5')"
      ],
      "metadata": {
        "id": "5BzQqmFNzonN"
      },
      "execution_count": null,
      "outputs": []
    },
    {
      "cell_type": "code",
      "source": [
        "plt.title('Clusters of customers')\n",
        "plt.xlabel('Annual Income (k$)')\n",
        "plt.ylabel('Spending Score (1-100)')\n",
        "plt.legend()\n",
        "plt.show()"
      ],
      "metadata": {
        "id": "qEJyhGk30R49"
      },
      "execution_count": null,
      "outputs": []
    }
  ]
}